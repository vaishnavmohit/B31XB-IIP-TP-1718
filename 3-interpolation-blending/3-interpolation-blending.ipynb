{
 "cells": [
  {
   "cell_type": "markdown",
   "metadata": {},
   "source": [
    "## **Introduction to Image Processing**\n",
    "\n",
    "Mojdeh Rastgoo - Desire Sidibe"
   ]
  },
  {
   "cell_type": "markdown",
   "metadata": {},
   "source": [
    "## 3. Interpolation and Blending"
   ]
  },
  {
   "cell_type": "markdown",
   "metadata": {},
   "source": [
    " Importing necessary libraries/modules and functions"
   ]
  },
  {
   "cell_type": "code",
   "execution_count": 2,
   "metadata": {},
   "outputs": [
    {
     "name": "stdout",
     "output_type": "stream",
     "text": [
      "Pretty printing has been turned OFF\n"
     ]
    }
   ],
   "source": [
    "% matplotlib inline\n",
    "% pprint off\n",
    "\n",
    "\n",
    "# Import the library as show images, plot, etc.\n",
    "import matplotlib.pyplot as plt\n",
    "# Import functionality for the color map\n",
    "import matplotlib.cm as cm\n",
    "\n",
    "# Import system specific parameters and function\n",
    "import sys \n",
    "\n",
    "## Other plotting libraries\n",
    "# import seaborn as sns\n",
    "\n",
    "# Import the library to mange the matrix and array \n",
    "import numpy as np\n",
    "\n",
    "# Importing image processing toolbox \n",
    "## Module to read, write,... \n",
    "from skimage import io\n",
    "## Module to convert the image on 8 bits\n",
    "from skimage import img_as_ubyte\n",
    "## Module to convert the image to float\n",
    "from skimage import img_as_float\n",
    "## Module for color conversion \n",
    "from skimage import color\n",
    "## Module image transform from skimage for resize \n",
    "from skimage import transform\n",
    "## Module misc from scipy for resize \n",
    "from scipy import misc\n",
    "## Module util from skimage \n",
    "from PIL import Image\n"
   ]
  },
  {
   "cell_type": "markdown",
   "metadata": {},
   "source": [
    "### 3.1  Resizing an image size using different interpolation functions"
   ]
  },
  {
   "cell_type": "markdown",
   "metadata": {},
   "source": [
    "** Q.1 Resize the `lena` or `vibot` image using nearest, bilinear and bicubic function.** \n",
    "\n",
    "You can define your function which accept the model and resize size from the user or just run a script."
   ]
  },
  {
   "cell_type": "code",
   "execution_count": 4,
   "metadata": {
    "collapsed": true
   },
   "outputs": [],
   "source": []
  },
  {
   "cell_type": "code",
   "execution_count": null,
   "metadata": {},
   "outputs": [],
   "source": []
  },
  {
   "cell_type": "markdown",
   "metadata": {},
   "source": [
    "**Q.2 Similar to the function of `my_blending.m` that you saw before define your function of blending ** \n",
    "\n",
    "**Therefore define three functions `simple_blend`, `alpha_blend` and `pyramid_blend`**\n",
    "\n",
    "** Using your functions, blend `orange` and `apple` images together.**\n"
   ]
  },
  {
   "cell_type": "code",
   "execution_count": null,
   "metadata": {},
   "outputs": [],
   "source": []
  },
  {
   "cell_type": "code",
   "execution_count": null,
   "metadata": {
    "collapsed": true
   },
   "outputs": [],
   "source": []
  },
  {
   "cell_type": "code",
   "execution_count": null,
   "metadata": {
    "collapsed": true
   },
   "outputs": [],
   "source": []
  }
 ],
 "metadata": {
  "kernelspec": {
   "display_name": "Python 3",
   "language": "python",
   "name": "python3"
  },
  "language_info": {
   "codemirror_mode": {
    "name": "ipython",
    "version": 3
   },
   "file_extension": ".py",
   "mimetype": "text/x-python",
   "name": "python",
   "nbconvert_exporter": "python",
   "pygments_lexer": "ipython3",
   "version": "3.6.2"
  }
 },
 "nbformat": 4,
 "nbformat_minor": 1
}
